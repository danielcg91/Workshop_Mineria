{
  "cells": [
    {
      "cell_type": "markdown",
      "metadata": {},
      "source": [
        "# Recordatorio de pasos en Bash\n",
        "\n",
        "## Preparación del directorio de trabajo\n",
        "\n",
        "-   Ruta / Camino absoluto\n",
        "\n",
        "\n",
        "```{bash, eval=F}\n",
        "cd /home/usuario/data/\n",
        "```\n",
        "\n",
        "\n",
        "-   Ruta / Camino relativo\n",
        "\n",
        "\n",
        "```{bash, eval=F}\n",
        "cd ../ # Ir a la carpeta anterior\n",
        "```\n",
        "\n",
        "\n",
        "## **Comandos básicos**\n",
        "\n",
        "| Comandos       | Información                                          | Argumentos                          |\n",
        "|------------|------------------------------|------------------------------|\n",
        "| `ssh`          | Conexión a servidores                                | ssh usuario\\@servidor.mx            |\n",
        "| `ls`           | Observar el contenido de los archivos en una carpeta | ls directorio/                      |\n",
        "| `cd`           | Moverse de directorios                               | cd /home/usuario/data/              |\n",
        "| `mkdir`        | Crear un nuevo directorio                            | mkdir data                          |\n",
        "| `rmdir`        | Eliminar el directorio                               | rmkdir -rf data                     |\n",
        "| `nano` / `vim` | Editores de texto plano                              | nano Archivo.txt / vim Archivo.txt  |\n",
        "| `cp`           | Copiar archivos                                      | cp Archivo1.txt /home/usuario/data/ |\n",
        "| `mv`           | Mover un archivo o carpeta                           |                                     |\n",
        "| `echo`         | Para llamar y/o declarar variables                   | echo \"Hello world\"                  |\n",
        "| `chmod`        | Cambiar permisos del usuario                         | chmod 777 data/                     |\n",
        "| `rsync`        | Descargar o subir archivos                           |                                     |\n",
        "| `scp`          | Descargar o subir archivos                           |                                     |"
      ],
      "id": "0f014201"
    }
  ],
  "metadata": {
    "kernelspec": {
      "name": "python3",
      "language": "python",
      "display_name": "Python 3 (ipykernel)"
    }
  },
  "nbformat": 4,
  "nbformat_minor": 5
}